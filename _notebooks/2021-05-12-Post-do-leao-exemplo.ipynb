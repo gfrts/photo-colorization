{
  "nbformat": 4,
  "nbformat_minor": 0,
  "metadata": {
    "colab": {
      "name": "Untitled6.ipynb",
      "private_outputs": true,
      "provenance": [],
      "collapsed_sections": [],
      "toc_visible": true,
      "authorship_tag": "ABX9TyPPJDl9Q/fx997AM1mbNKpJ",
      "include_colab_link": true
    },
    "kernelspec": {
      "name": "python3",
      "display_name": "Python 3"
    },
    "language_info": {
      "name": "python"
    }
  },
  "cells": [
    {
      "cell_type": "markdown",
      "metadata": {
        "id": "view-in-github",
        "colab_type": "text"
      },
      "source": [
        "<a href=\"https://colab.research.google.com/github/pauloesampaio/photo-colorization/blob/master/_notebooks/2021-05-12-Post-do-leao-exemplo.ipynb\" target=\"_parent\"><img src=\"https://colab.research.google.com/assets/colab-badge.svg\" alt=\"Open In Colab\"/></a>"
      ]
    },
    {
      "cell_type": "markdown",
      "metadata": {
        "id": "RSI84z0nqkTr"
      },
      "source": [
        "# Testando o fast pages\n",
        "> Com nossa foto do leao\n",
        "\n",
        "- toc: false\n",
        "- branch: master\n",
        "- badges: false\n",
        "- comments: false\n",
        "- categories: [leao, black_and_white]\n",
        "- hide: false\n",
        "- author: Paulo Sampaio"
      ]
    },
    {
      "cell_type": "code",
      "metadata": {
        "id": "7tl-31abqiZY"
      },
      "source": [
        "#hide\n",
        "!wget https://raw.githubusercontent.com/awarischool/data-science/master/image-colorizer/deoldify_wrapper.py "
      ],
      "execution_count": null,
      "outputs": []
    },
    {
      "cell_type": "code",
      "metadata": {
        "id": "1xDmjVwOq5EU"
      },
      "source": [
        "#hide\n",
        "from deoldify_wrapper import DeOldify"
      ],
      "execution_count": null,
      "outputs": []
    },
    {
      "cell_type": "code",
      "metadata": {
        "id": "YXV6Zi9DrA0A"
      },
      "source": [
        "#hide\n",
        "deo = DeOldify()"
      ],
      "execution_count": null,
      "outputs": []
    },
    {
      "cell_type": "markdown",
      "metadata": {
        "id": "4MtN2SQAsfTR"
      },
      "source": [
        "# Apenas demonstrando o fastpages\n",
        "\n",
        "Vamos ver como é fácil transformar um notebook em blog post!"
      ]
    },
    {
      "cell_type": "code",
      "metadata": {
        "id": "StzhzFHNr9l_"
      },
      "source": [
        "#hide_input\n",
        "deo.colorize(\"https://i.imgur.com/bmdCQlL.jpg\")"
      ],
      "execution_count": null,
      "outputs": []
    },
    {
      "cell_type": "markdown",
      "metadata": {
        "id": "aZa1zsqDs27D"
      },
      "source": [
        "Viu só como é fácil?"
      ]
    }
  ]
}